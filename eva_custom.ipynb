{
 "cells": [
  {
   "cell_type": "code",
   "execution_count": 1,
   "metadata": {},
   "outputs": [],
   "source": [
    "import glob\n",
    "from PIL import Image, ImageOps\n",
    "from src.atom_seg import *\n",
    "import cv2\n",
    "\n",
    "# Label ids of the dataset\n",
    "category_ids = {\n",
    "    # \"outlier\": 0,\n",
    "    \"rebar\": 1,\n",
    "    \"spall\": 2,\n",
    "    \"crack\": 3,\n",
    "}"
   ]
  },
  {
   "cell_type": "code",
   "execution_count": 2,
   "metadata": {},
   "outputs": [],
   "source": [
    "def add_border(input_image, output_image, border, color=0):\n",
    "    img = Image.open(input_image)\n",
    "\n",
    "    if isinstance(border, int) or isinstance(border, tuple):\n",
    "        bimg = ImageOps.expand(img, border=border, fill=color)\n",
    "    else:\n",
    "        raise runtimeerror('border is not an integer or tuple!')\n",
    "\n",
    "    return bimg #.save(output_image)\n",
    "\n",
    "def add_margin(pil_img, top, right, bottom, left, color):\n",
    "    width, height = pil_img.size\n",
    "    new_width = width + right + left\n",
    "    new_height = height + top + bottom\n",
    "    result = Image.new(pil_img.mode, (new_width, new_height), color)\n",
    "    result.paste(pil_img, (left, top))\n",
    "    return result\n",
    "    \n",
    "def images_annotations_info(root_path):\n",
    "    # This id will be automatically increased as we go\n",
    "    image_id = 0\n",
    "    annotations = []\n",
    "    images = []\n",
    "\n",
    "    for main_image in glob.glob(root_path + \"images/\"+ \"*.jpg\"):\n",
    "        image_id+=1\n",
    "        # print(main_image)\n",
    "        \n",
    "        main_img = Image.open(main_image)\n",
    "        width, height = main_img.size\n",
    "        # print(\"main_img.size\", main_img.size)\n",
    "        # The mask image is *.png but the original image is *.jpg.\n",
    "        # We make a reference to the original file in the COCO JSON file\n",
    "        filename = os.path.basename(main_image).split(\".\")[0]\n",
    "        image = create_image_annotation(filename, width, height, image_id)\n",
    "        images.append(image)\n",
    "        rebarmask_file = os.path.join(root_path, \"masks\",filename + 'rebar' + '.jpg')\n",
    "        spallmask_file = os.path.join(root_path, \"masks\", filename + 'spall' + '.jpg')\n",
    "        crackmask_file = os.path.join(root_path, \"masks\", filename + 'crack' + '.jpg')\n",
    "        \n",
    "        # rebarmask = np.zeros_like(main_img)\n",
    "        # spallmask = np.zeros_like(main_img)\n",
    "        # crackmask = np.zeros_like(main_img)\n",
    "        # Open the image and (to be sure) we convert it to RGB\n",
    "        thresh = 150\n",
    "        fn = lambda x : 255 if x > thresh else 0\n",
    "        if os.path.exists(rebarmask_file):\n",
    "            mask1 = cv2.imread(rebarmask_file)\n",
    "            Conv_hsv_Gray = cv2.cvtColor(mask1, cv2.COLOR_BGR2GRAY)\n",
    "            ret,rebarmask = cv2.threshold(Conv_hsv_Gray,127,255,cv2.THRESH_BINARY)\n",
    "            category_id = category_ids[\"rebar\"]\n",
    "            annotations.append(create_annotation_format(rebarmask, category_id, image_id))\n",
    "        if os.path.exists(spallmask_file):\n",
    "            mask2 = cv2.imread(spallmask_file)#.convert(\"1\")\n",
    "            Conv_hsv_Gray = cv2.cvtColor(mask2, cv2.COLOR_BGR2GRAY)\n",
    "            ret,spallmask = cv2.threshold(Conv_hsv_Gray,127,255,cv2.THRESH_BINARY)\n",
    "            category_id = category_ids[\"spall\"]\n",
    "            annotations.append(create_annotation_format(spallmask, category_id, image_id))\n",
    "        if os.path.exists(crackmask_file):\n",
    "            mask3 = cv2.imread(crackmask_file)#.convert(\"1\")\n",
    "            Conv_hsv_Gray = cv2.cvtColor(mask3, cv2.COLOR_BGR2GRAY)\n",
    "            ret,crackmask = cv2.threshold(Conv_hsv_Gray,127,255,cv2.THRESH_BINARY)\n",
    "            category_id = category_ids[\"crack\"]\n",
    "            annotations.append(create_annotation_format(crackmask, category_id, image_id))\n",
    "    # print(json.dumps(annotations, indent=4))\n",
    "    return images, annotations, annotation_id\n",
    "    "
   ]
  },
  {
   "cell_type": "code",
   "execution_count": 3,
   "metadata": {},
   "outputs": [
    {
     "name": "stdout",
     "output_type": "stream",
     "text": [
      "Created 0 annotations for images in folder: ../../data/dataset/masks\n"
     ]
    }
   ],
   "source": [
    "if __name__ == \"__main__\":\n",
    "    # Get the standard COCO JSON format\n",
    "    coco_format = get_coco_json_format()\n",
    "    root = \"../../data/\"\n",
    "    # root = \"../../../Dataset/buildings/Building dataset/\"\n",
    "    \n",
    "    for keyword in [\"train\"]:\n",
    "        root_path = root+\"dataset/\"\n",
    "        mask_path = root_path + \"masks\"\n",
    "        \n",
    "        # Create category section\n",
    "        coco_format[\"categories\"] = create_category_annotation(category_ids)\n",
    "    \n",
    "        # Create images and annotations sections\n",
    "        coco_format[\"images\"], coco_format[\"annotations\"], annotation_cnt = images_annotations_info(root_path)\n",
    "        \n",
    "        with open(\"output/coco.json\".format(keyword),\"w\") as outfile:\n",
    "            json.dump(coco_format, outfile)\n",
    "        \n",
    "        print(\"Created %d annotations for images in folder: %s\" % (annotation_cnt, mask_path))"
   ]
  },
  {
   "cell_type": "code",
   "execution_count": null,
   "metadata": {},
   "outputs": [],
   "source": []
  },
  {
   "cell_type": "code",
   "execution_count": null,
   "metadata": {},
   "outputs": [],
   "source": []
  }
 ],
 "metadata": {
  "interpreter": {
   "hash": "b1fba4fd74d59480c8732a5c9b6637dabef71547e1664ab4b6d38e4497ad398a"
  },
  "kernelspec": {
   "display_name": "Python 3.8.5 ('pytorch')",
   "language": "python",
   "name": "python3"
  },
  "language_info": {
   "codemirror_mode": {
    "name": "ipython",
    "version": 3
   },
   "file_extension": ".py",
   "mimetype": "text/x-python",
   "name": "python",
   "nbconvert_exporter": "python",
   "pygments_lexer": "ipython3",
   "version": "3.8.5"
  },
  "orig_nbformat": 4
 },
 "nbformat": 4,
 "nbformat_minor": 2
}
